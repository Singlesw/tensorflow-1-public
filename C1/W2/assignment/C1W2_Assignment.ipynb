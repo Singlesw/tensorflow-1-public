{
   "cells":[
      {
         "cell_type":"markdown",
         "metadata":{
            "id":"Z0u5M-bHIEtT"
         },
         "source":[
            "<a href=\"https://colab.research.google.com/github/Singlesw/tensorflow-1-public/blob/main/C1/W2/assignment/C1W2_Assignment.ipynb\" target=\"_parent\"><img src=\"https://colab.research.google.com/assets/colab-badge.svg\" alt=\"Open In Colab\"/></a>"
         ]
      },
      {
         "cell_type":"markdown",
         "metadata":{
            "id":"vBNo9JrZIYG6"
         },
         "source":[
            "# Ungraded Lab: Using Callbacks to Control Training\n",
            "\n",
            "In this lab, you will use the [Callbacks API](https://keras.io/api/callbacks/) to stop training when a specified metric is met. This is a useful feature so you won't need to complete all epochs when this threshold is reached. For example, if you set 1000 epochs and your desired accuracy is already reached at epoch 200, then the training will automatically stop. Let's see how this is implemented in the next sections.\n",
            "\n",
            "># Ungraded Lab: Використання зворотних викликів для керування навчанням\n",
            ">\n",
            ">У цій лабораторній роботі ви будете використовувати [Callbacks API](https://keras.io/api/callbacks/) для зупинки навчання при досягненні певної метрики. Це корисна функція, тому вам не потрібно буде завершувати всі епохи, коли буде досягнуто цей поріг. Наприклад, якщо ви встановили 1000 епох, а бажана точність вже досягнута на 200 епосі, то навчання автоматично зупиниться. Давайте подивимося, як це реалізовано в наступних розділах.\n"
         ]
      },
      {
         "cell_type":"markdown",
         "metadata":{
            "id":"Mcwrn9AKKVb8"
         },
         "source":[
            "## Load and Normalize the Fashion MNIST dataset\n",
            "\n",
            "Like the previous lab, you will use the Fashion MNIST dataset again for this exercise. And also as mentioned before, you will normalize the pixel values to help optimize the training.\n",
            "\n",
            ">## Завантаження та нормалізація набору даних Fashion MNIST\n",
            ">\n",
            ">Як і в попередній вправі, у цій вправі ви знову використовуватимете набір даних Fashion MNIST. Також, як згадувалося раніше, ви нормалізуєте значення пікселів, щоб оптимізувати навчання."
         ]
      },
      {
         "cell_type":"code",
         "execution_count":null,
         "metadata":{
            "id":"8LTaefqDJMIn"
         },
         "outputs":[
            
         ],
         "source":[
            "import tensorflow as tf\n",
            "\n",
            "# Instantiate the dataset API\n",
            "fmnist = tf.keras.datasets.fashion_mnist\n",
            "\n",
            "# Load the dataset\n",
            "(x_train, y_train),(x_test, y_test) = fmnist.load_data()\n",
            "\n",
            "# Normalize the pixel values\n",
            "x_train, x_test = x_train / 255.0, x_test / 255.0"
         ]
      },
      {
         "cell_type":"markdown",
         "metadata":{
            "id":"Ia2OadhALJjS"
         },
         "source":[
            "## Creating a Callback class\n",
            "\n",
            "You can create a callback by defining a class that inherits the [tf.keras.callbacks.Callback](https://www.tensorflow.org/api_docs/python/tf/keras/callbacks/Callback) base class. From there, you can define available methods to set where the callback will be executed. For instance below, you will use the [on_epoch_end()](https://www.tensorflow.org/api_docs/python/tf/keras/callbacks/Callback#on_epoch_end) method to check the loss at each training epoch.\n",
            "\n",
            "># Створення класу зворотного виклику\n",
            ">\n",
            ">Ви можете створити зворотний виклик, визначивши клас, який успадковує базовий клас [tf.keras.callbacks.Callback](https://www.tensorflow.org/api_docs/python/tf/keras/callbacks/Callback). Звідти ви можете визначити доступні методи, щоб встановити, де буде виконуватися зворотний виклик. Наприклад, нижче ви будете використовувати метод [on_epoch_end()](https://www.tensorflow.org/api_docs/python/tf/keras/callbacks/Callback#on_epoch_end) для перевірки втрат у кожній епосі навчання."
         ]
      },
      {
         "cell_type":"code",
         "execution_count":null,
         "metadata":{
            "id":"uuRmQZWVJAJH"
         },
         "outputs":[
            
         ],
         "source":[
            "class myCallback(tf.keras.callbacks.Callback):\n",
            "  def on_epoch_end(self, epoch, logs={}):\n",
            "    '''\n",
            "    Halts the training when the loss falls below 0.4\n",
            "\n",
            "    Args:\n",
            "      epoch (integer) - index of epoch (required but unused in the function definition below)\n",
            "      logs (dict) - metric results from the training epoch\n",
            "    '''\n",
            "\n",
            "    # Check the loss\n",
            "    if(logs.get('loss') < 0.4):\n",
            "\n",
            "      # Stop if threshold is met\n",
            "      print(\"\\nLoss is lower than 0.4 so cancelling training!\")\n",
            "      self.model.stop_training = True\n",
            "\n",
            "# Instantiate class\n",
            "callbacks = myCallback()"
         ]
      },
      {
         "cell_type":"markdown",
         "metadata":{
            "id":"4xlXeLkFeMn8"
         },
         "source":[
            "## Define and compile the model\n",
            "\n",
            "Next, you will define and compile the model. The architecture will be similar to the one you built in the previous lab. Afterwards, you will set the optimizer, loss, and metrics that you will use for training.\n",
            "\n",
            ">## Визначення та компіляція моделі\n",
            ">\n",
            ">Далі ви визначите і скомпілюєте модель. Архітектура буде схожа на ту, яку ви створили в попередній лабораторній роботі. Після цього ви встановите оптимізатор, втрати та метрики, які ви будете використовувати для навчання."
         ]
      },
      {
         "cell_type":"code",
         "execution_count":null,
         "metadata":{
            "id":"7JXxMg3TpzER"
         },
         "outputs":[
            
         ],
         "source":[
            "# Define the model\n",
            "model = tf.keras.models.Sequential([\n",
            "  tf.keras.layers.Flatten(input_shape=(28, 28)),\n",
            "  tf.keras.layers.Dense(512, activation=tf.nn.relu),\n",
            "  tf.keras.layers.Dense(10, activation=tf.nn.softmax)\n",
            "])\n",
            "\n",
            "# Compile the model\n",
            "model.compile(optimizer=tf.optimizers.Adam(),\n",
            "              loss='sparse_categorical_crossentropy',\n",
            "              metrics=['accuracy'])\n",
            "\n"
         ]
      },
      {
         "cell_type":"markdown",
         "metadata":{
            "id":"6eLe4cPZe-ui"
         },
         "source":[
            "### Train the model\n",
            "\n",
            "Now you are ready to train the model. To set the callback, simply set the `callbacks` parameter to the `myCallback` instance you declared before. Run the cell below and observe what happens.\n",
            "\n",
            ">### Навчіть модель\n",
            ">\n",
            ">Тепер ви готові до навчання моделі. Щоб встановити зворотний виклик, просто встановіть параметр `callbacks` в екземпляр `myCallback`, який ви оголосили раніше. Запустіть комірку нижче і подивіться, що станеться."
         ]
      },
      {
         "cell_type":"code",
         "execution_count":null,
         "metadata":{
            "id":"nLXTB32de3_e"
         },
         "outputs":[
            
         ],
         "source":[
            "# Train the model with a callback\n",
            "model.fit(x_train, y_train, epochs=10, callbacks=[callbacks])"
         ]
      },
      {
         "cell_type":"markdown",
         "metadata":{
            "id":"fGBSkRQPff93"
         },
         "source":[
            "You will notice that the training does not need to complete all 10 epochs. By having a callback at the end of each epoch, it is able to check the training parameters and compare if it meets the threshold you set in the function definition. In this case, it will simply stop when the loss falls below `0.40` after the current epoch.\n",
            "\n",
            "*Optional Challenge: Modify the code to make the training stop when the accuracy metric exceeds 60%.*\n",
            "\n",
            "That concludes this simple exercise on callbacks!\n",
            "\n",
            ">Ви можете помітити, що тренуванню не обов'язково проходити всі 10 епох. Завдяки зворотному виклику в кінці кожної епохи, програма може перевірити параметри навчання і порівняти, чи досягає вона порогового значення, яке ви встановили у визначенні функції. У цьому випадку він просто зупиниться, коли втрати впадуть нижче `0.40` після поточної епохи.\n",
            ">\n",
            ">*Необов'язкове завдання: Модифікуйте код так, щоб навчання зупинялося, коли показник точності перевищує 60%.*\n",
            ">\n",
            ">На цьому ми завершуємо цю просту вправу по зворотному дзвінку!\n"
         ]
      }
   ],
   "metadata":{
      "colab":{
         "name":"C1_W2_Lab_2_callbacks.ipynb",
         "private_outputs":true,
         "provenance":[
            {
               "file_id":"https://github.com/https-deeplearning-ai/tensorflow-1-public/blob/main/C1/W2/ungraded_labs/C1_W2_Lab_2_callbacks.ipynb",
               "timestamp":1690877678057
            },
            {
               "file_id":"https://github.com/https-deeplearning-ai/tensorflow-1-public/blob/adding_C1/C1/W2/ungraded_labs/C1_W2_Lab_2_callbacks.ipynb",
               "timestamp":1638884482962
            }
         ],
         "toc_visible":true
      },
      "kernelspec":{
         "display_name":"Python 3",
         "language":"python",
         "name":"python3"
      },
      "language_info":{
         "codemirror_mode":{
            "name":"ipython",
            "version":3
         },
         "file_extension":".py",
         "mimetype":"text/x-python",
         "name":"python",
         "nbconvert_exporter":"python",
         "pygments_lexer":"ipython3",
         "version":"3.7.4"
      }
   },
   "nbformat":4,
   "nbformat_minor":0
}
