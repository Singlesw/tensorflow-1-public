{
   "cells":[
      {
         "cell_type":"markdown",
         "metadata":{
            "id":"Z0u5M-bHIEtT"
         },
         "source":[
            "<a href=\"https://colab.research.google.com/github/Singlesw/tensorflow-1-public/blob/main/C1/W2/assignment/C1W2_Assignment.ipynb\" target=\"_parent\"><img src=\"https://colab.research.google.com/assets/colab-badge.svg\" alt=\"Open In Colab\"/></a>"
         ]
      },
      {
         "cell_type":"markdown",
         "metadata":{
            "id":"_2s0EJ5Fy4u2"
         },
         "source":[
            "# Week 2: Implementing Callbacks in TensorFlow using the MNIST Dataset\n",
            "\n",
            "In the course you learned how to do classification using Fashion MNIST, a data set containing items of clothing. There's another, similar dataset called MNIST which has items of handwriting -- the digits 0 through 9.\n",
            "\n",
            "Write an MNIST classifier that trains to 99% accuracy and stops once this threshold is achieved. In the lecture you saw how this was done for the loss but here you will be using accuracy instead.\n",
            "\n",
            "Some notes:\n",
            "1. Your network should succeed in less than 9 epochs.\n",
            "2. When it reaches 99% or greater it should print out the string \"Reached 99% accuracy so cancelling training!\" and stop training.\n",
            "3. If you add any additional variables, make sure you use the same names as the ones used in the class. This is important for the function signatures (the parameters and names) of the callbacks.\n",
            "\n",
            "># Тиждень 2: Реалізація зворотних викликів у TensorFlow з використанням набору даних MNIST\n",
            ">\n",
            ">У цьому курсі ви дізналися, як робити класифікацію за допомогою Fashion MNIST, набору даних, що містить елементи одягу. Існує ще один схожий набір даних під назвою MNIST, який містить елементи почерку - цифри від 0 до 9.\n",
            ">\n",
            ">Напишіть класифікатор MNIST, який навчається з точністю 99% і зупиняється після досягнення цього порогу. У лекції ви бачили, як це було зроблено для втрати, але тут ви будете використовувати точність.\n",
            ">\n",
            ">Декілька зауважень:\n",
            ">1. Ваша мережа повинна досягти успіху менш ніж за 9 епох.\n",
            ">2. Коли вона досягає 99% або більше, вона повинна вивести рядок \"Досягнуто точності 99%, тому навчання припинено!\" і зупинити навчання.\n",
            ">3. Якщо ви додаєте будь-які додаткові змінні, переконайтеся, що ви використовуєте ті самі імена, що й у класі. Це важливо для сигнатур функцій (параметрів та імен) зворотних викликів."
         ]
      },
      {
         "cell_type":"code",
         "execution_count":null,
         "metadata":{
            "tags":[
               "graded"
            ],
            "id":"pmkkrEHyMlt4"
         },
         "outputs":[
            
         ],
         "source":[
            "import os\n",
            "import tensorflow as tf\n",
            "from tensorflow import keras"
         ]
      },
      {
         "cell_type":"markdown",
         "metadata":{
            "id":"YKqgfN22Mlt5"
         },
         "source":[
            "## Load and inspect the data\n",
            "\n",
            "Begin by loading the data. A couple of things to notice:\n",
            "\n",
            "- The file `mnist.npz` is already included in the current workspace under the `data` directory. By default the `load_data` from Keras accepts a path relative to `~/.keras/datasets` but in this case it is stored somewhere else, as a result of this, you need to specify the full path.\n",
            "\n",
            "- `load_data` returns the train and test sets in the form of the tuples `(x_train, y_train), (x_test, y_test)` but in this exercise you will be needing only the train set so you can ignore the second tuple.\n",
            "\n",
            ">## Завантажте та перевірте дані\n",
            ">\n",
            ">Почніть із завантаження даних. Слід звернути увагу на кілька речей:\n",
            ">\n",
            ">- Файл `mnist.npz` вже включено до поточної робочої області у каталог `data`. За замовчуванням `load_data` з Keras приймає шлях відносно `~/.keras/datasets`, але у цьому випадку він зберігається десь в іншому місці, тому вам потрібно вказати повний шлях.\n",
            ">\n",
            ">- Команда `load_data` повертає тренувальний і тестовий набори у вигляді кортежів `(x_train, y_train), (x_test, y_test)`, але у цій вправі вам знадобиться лише тренувальний набір, тому другий кортеж можна ігнорувати."
         ]
      },
      {
         "cell_type":"code",
         "execution_count":null,
         "metadata":{
            "tags":[
               "graded"
            ],
            "id":"k0pu2kKGMlt6"
         },
         "outputs":[
            
         ],
         "source":[
            "# Load the data\n",
            "\n",
            "# Get current working directory\n",
            "current_dir = os.getcwd()\n",
            "\n",
            "# Append data/mnist.npz to the previous path to get the full path\n",
            "data_path = os.path.join(current_dir, \"data/mnist.npz\")\n",
            "\n",
            "# Discard test set\n",
            "(x_train, y_train), _ = tf.keras.datasets.mnist.load_data(path=data_path)\n",
            "\n",
            "# Normalize pixel values\n",
            "x_train = x_train / 255.0"
         ]
      },
      {
         "cell_type":"markdown",
         "metadata":{
            "id":"gYyYvmuUMlt7"
         },
         "source":[
            "Now take a look at the shape of the training data:\n",
            "\n",
            ">Тепер погляньте на форму навчальних даних:"
         ]
      },
      {
         "cell_type":"code",
         "execution_count":null,
         "metadata":{
            "tags":[
               "graded"
            ],
            "id":"YRhCMRKzMlt8"
         },
         "outputs":[
            
         ],
         "source":[
            "data_shape = x_train.shape\n",
            "\n",
            "print(f\"There are {data_shape[0]} examples with shape ({data_shape[1]}, {data_shape[2]})\")"
         ]
      },
      {
         "cell_type":"markdown",
         "metadata":{
            "id":"NQRdfWxCMlt9"
         },
         "source":[
            "## Defining your callback\n",
            "\n",
            "Now it is time to create your own custom callback. For this complete the `myCallback` class and the `on_epoch_end` method in the cell below. If you need some guidance on how to proceed, check out this [link](https://www.tensorflow.org/guide/keras/custom_callback).\n",
            "\n",
            ">## Визначення вашого зворотного виклику\n",
            ">\n",
            ">Тепер прийшов час створити власний користувацький колбек. Для цього заповніть клас `myCallback` і метод `on_epoch_end` у комірці нижче. Якщо вам потрібна додаткова інформація про те, як діяти далі, перегляньте це [посилання](https://www.tensorflow.org/guide/keras/custom_callback)."
         ]
      },
      {
         "cell_type":"code",
         "execution_count":null,
         "metadata":{
            "tags":[
               "graded"
            ],
            "id":"JN56d-hBMlt-"
         },
         "outputs":[
            
         ],
         "source":[
            "# GRADED CLASS: myCallback\n",
            "### START CODE HERE\n",
            "\n",
            "# Remember to inherit from the correct class\n",
            "class myCallback():\n",
            "        # Define the correct function signature for on_epoch_end\n",
            "        def on_epoch_end(None, None, None=None):\n",
            "            if logs.get('accuracy') is not None and logs.get('accuracy') > 0.99:\n",
            "                print(\"\\nReached 99% accuracy so cancelling training!\")\n",
            "\n",
            "                # Stop training once the above condition is met\n",
            "                None = None\n",
            "\n",
            "### END CODE HERE\n"
         ]
      },
      {
         "cell_type":"markdown",
         "metadata":{
            "id":"oCq6ACRrMluB"
         },
         "source":[
            "## Create and train your model\n",
            "\n",
            "Now that you have defined your callback it is time to complete the `train_mnist` function below.\n",
            "\n",
            "**You must set your model to train for 10 epochs and the callback should fire before the 9th epoch for you to pass this assignment.**\n",
            "\n",
            "**Hint:**\n",
            "- Feel free to try the architecture for the neural network that you see fit but in case you need extra help you can check out an architecture that works pretty well at the end of this notebook.\n",
            "\n",
            ">## Створіть і навчіть вашу модель\n",
            ">\n",
            ">Тепер, коли ви визначили ваш колбек, настав час завершити функцію `train_mnist`, наведену нижче.\n",
            ">\n",
            ">**Ви повинні налаштувати вашу модель на тренування протягом 10 епох, а зворотний виклик повинен спрацювати до 9 епохи, щоб ви пройшли це завдання.**\n",
            ">\n",
            ">**Підказка:**\n",
            ">- Не соромтеся пробувати архітектуру нейронної мережі, яку ви вважаєте за потрібне, але якщо вам потрібна додаткова допомога, ви можете перевірити архітектуру, яка працює досить добре, в кінці цього зошита."
         ]
      },
      {
         "cell_type":"code",
         "execution_count":null,
         "metadata":{
            "id":"rEHcB3kqyHZ6",
            "tags":[
               "graded"
            ]
         },
         "outputs":[
            
         ],
         "source":[
            "# GRADED FUNCTION: train_mnist\n",
            "def train_mnist(x_train, y_train):\n",
            "\n",
            "    ### START CODE HERE\n",
            "\n",
            "    # Instantiate the callback class\n",
            "    callbacks = None\n",
            "\n",
            "    # Define the model\n",
            "    model = tf.keras.models.Sequential([\n",
            "        None,\n",
            "    ])\n",
            "\n",
            "    # Compile the model\n",
            "    model.compile(optimizer='adam',\n",
            "                  loss='sparse_categorical_crossentropy',\n",
            "                  metrics=['accuracy'])\n",
            "\n",
            "    # Fit the model for 10 epochs adding the callbacks\n",
            "    # and save the training history\n",
            "    history = model.fit(None, None, epochs=None, callbacks=[None])\n",
            "\n",
            "    ### END CODE HERE\n",
            "\n",
            "    return history"
         ]
      },
      {
         "cell_type":"markdown",
         "metadata":{
            "id":"e_LA01HHMluD"
         },
         "source":[
            "Call the `train_mnist` passing in the appropiate parameters to get the training history:\n",
            "\n",
            ">Викличте `train_mnist`, передавши відповідні параметри, щоб отримати історію тренувань:"
         ]
      },
      {
         "cell_type":"code",
         "execution_count":null,
         "metadata":{
            "id":"sFgpwbGly4u4",
            "tags":[
               "graded"
            ]
         },
         "outputs":[
            
         ],
         "source":[
            "hist = train_mnist(x_train, y_train)"
         ]
      },
      {
         "cell_type":"markdown",
         "metadata":{
            "id":"inefDboNMluE"
         },
         "source":[
            "If you see the message `Reached 99% accuracy so cancelling training!` printed out after less than 9 epochs it means your callback worked as expected.\n",
            "\n",
            ">Якщо ви бачите повідомлення `Досягнуто 99% точності, тому скасовуємо тренування!`, роздруковане менш ніж через 9 епох, це означає, що ваш зворотний дзвінок спрацював як очікувалося."
         ]
      },
      {
         "cell_type":"markdown",
         "metadata":{
            "id":"GeJz2XilMluF"
         },
         "source":[
            "## Need more help?\n",
            "\n",
            "Run the following cell to see an architecture that works well for the problem at hand:\n",
            "\n",
            ">## Потрібна допомога?\n",
            ">\n",
            ">Запустіть наступну комірку, щоб побачити архітектуру, яка добре підходить для даної проблеми:"
         ]
      },
      {
         "cell_type":"code",
         "execution_count":null,
         "metadata":{
            "id":"veuTOt3UMluF"
         },
         "outputs":[
            
         ],
         "source":[
            "# WE STRONGLY RECOMMEND YOU TO TRY YOUR OWN ARCHITECTURES FIRST\n",
            "# AND ONLY RUN THIS CELL IF YOU WISH TO SEE AN ANSWER\n",
            "\n",
            "import base64\n",
            "\n",
            "encoded_answer = \"CiAgIC0gQSBGbGF0dGVuIGxheWVyIHRoYXQgcmVjZWl2ZXMgaW5wdXRzIHdpdGggdGhlIHNhbWUgc2hhcGUgYXMgdGhlIGltYWdlcwogICAtIEEgRGVuc2UgbGF5ZXIgd2l0aCA1MTIgdW5pdHMgYW5kIFJlTFUgYWN0aXZhdGlvbiBmdW5jdGlvbgogICAtIEEgRGVuc2UgbGF5ZXIgd2l0aCAxMCB1bml0cyBhbmQgc29mdG1heCBhY3RpdmF0aW9uIGZ1bmN0aW9uCg==\"\n",
            "encoded_answer = encoded_answer.encode('ascii')\n",
            "answer = base64.b64decode(encoded_answer)\n",
            "answer = answer.decode('ascii')\n",
            "\n",
            "print(answer)"
         ]
      },
      {
         "cell_type":"markdown",
         "metadata":{
            "id":"jP_1FliYMluG"
         },
         "source":[
            "**Congratulations on finishing this week's assignment!**\n",
            "\n",
            "You have successfully implemented a callback that gives you more control over the training loop for your model. Nice job!\n",
            "\n",
            "**Keep it up!**\n",
            "\n",
            ">**Вітаємо з завершенням завдання цього тижня!\n",
            ">\n",
            ">Ви успішно реалізували зворотний дзвінок, який дає вам більше контролю над циклом навчання для вашої моделі. Чудова робота!\n",
            ">\n",
            ">**Так тримати!"
         ]
      }
   ],
   "metadata":{
      "jupytext":{
         "main_language":"python"
      },
      "kernelspec":{
         "display_name":"Python 3",
         "language":"python",
         "name":"python3"
      },
      "language_info":{
         "codemirror_mode":{
            "name":"ipython",
            "version":3
         },
         "file_extension":".py",
         "mimetype":"text/x-python",
         "name":"python",
         "nbconvert_exporter":"python",
         "pygments_lexer":"ipython3",
         "version":"3.8.8"
      },
      "colab":{
         "provenance":[
            {
               "file_id":"https://github.com/Singlesw/tensorflow-1-public/blob/main/C1/W2/assignment/C1W2_Assignment.ipynb",
               "timestamp":1690879029951
            }
         ]
      }
   },
   "nbformat":4,
   "nbformat_minor":0
}
